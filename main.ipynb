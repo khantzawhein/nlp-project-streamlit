{
 "cells": [
  {
   "metadata": {
    "ExecuteTime": {
     "end_time": "2025-03-04T12:16:32.875737Z",
     "start_time": "2025-03-04T12:16:26.337149Z"
    }
   },
   "cell_type": "code",
   "source": [
    "from flair.data import Sentence\n",
    "from flair.nn import Classifier\n",
    "\n",
    "# make a sentence\n",
    "sentence = Sentence('I love Berlin .')\n",
    "\n",
    "# load the NER tagger\n",
    "tagger = Classifier.load('sentiment')\n",
    "\n",
    "# run NER over sentence\n",
    "tagger.predict(sentence)\n",
    "\n",
    "# print the sentence with all annotations\n",
    "print(sentence.to_dict())"
   ],
   "id": "6f31ee26f7211770",
   "outputs": [
    {
     "name": "stdout",
     "output_type": "stream",
     "text": [
      "{'text': 'I love Berlin .', 'labels': [{'value': 'POSITIVE', 'confidence': 0.998337984085083}], 'entities': [], 'relations': [], 'tokens': [{'text': 'I', 'start_pos': 0, 'end_pos': 1, 'labels': []}, {'text': 'love', 'start_pos': 2, 'end_pos': 6, 'labels': []}, {'text': 'Berlin', 'start_pos': 7, 'end_pos': 13, 'labels': []}, {'text': '.', 'start_pos': 14, 'end_pos': 15, 'labels': []}]}\n"
     ]
    }
   ],
   "execution_count": 3
  },
  {
   "metadata": {},
   "cell_type": "code",
   "source": [
    "from flair.data import Sentence\n",
    "from flair.nn import Classifier\n",
    "\n",
    "# make a sentence\n",
    "sentence = Sentence('I love Berlin Berlin.')\n",
    "\n",
    "# load the NER tagger\n",
    "tagger = Classifier.load('ner')\n",
    "\n",
    "# run NER over sentence\n",
    "tagger.predict(sentence)\n",
    "\n",
    "# print the sentence with all annotations\n",
    "print(sentence.to_dict())\n",
    "\n",
    "\n",
    "for label in sentence.get_labels():\n",
    "    # print label value and score\n",
    "    print(f'label.value is: \"{label.value}\"')\n",
    "    print(f'label.score is: \"{label.score}\"')\n",
    "    # access the data point to which label attaches and print its text\n",
    "    print(f'the text of label.data_point is: \"{label.data_point.text}\"\\n')"
   ],
   "id": "418e34872ce502c0",
   "outputs": [],
   "execution_count": null
  },
  {
   "metadata": {},
   "cell_type": "code",
   "source": [
    "from flair.data import Sentence\n",
    "from flair.nn import Classifier\n",
    "from flair.splitter import SegtokSentenceSplitter\n",
    "\n",
    "with open('example-data/bush-inauguration-speech.txt', 'r') as file:\n",
    "    text = file.read()\n",
    "\n",
    "lowerCaseText = text.replace('\\n', ' ').lower()\n",
    "uniqueText = \" \".join(set(lowerCaseText.split(' ')))\n",
    "\n",
    "uniqueText"
   ],
   "id": "2592ab1bff6a1a06",
   "outputs": [],
   "execution_count": null
  },
  {
   "metadata": {},
   "cell_type": "code",
   "source": [
    "splitter = SegtokSentenceSplitter()\n",
    "\n",
    "sentences = splitter.split(text)\n",
    "# # load the NER tagger\n",
    "tagger = Classifier.load('ner-fast')\n",
    "tagger.predict(sentences, mini_batch_size=32)\n",
    "for sentence in sentences:\n",
    "    for entity in sentence.get_labels():\n",
    "        print(f\"Value: {entity.value} with score: {entity.score} and entity type: {entity.data_point.text}\")"
   ],
   "id": "106a437a17e5185a",
   "outputs": [],
   "execution_count": null
  },
  {
   "metadata": {},
   "cell_type": "code",
   "source": [
    "splitter = SegtokSentenceSplitter()\n",
    "\n",
    "sentences = splitter.split(uniqueText)\n",
    "# # load the NER tagger\n",
    "tagger = Classifier.load('ner')\n",
    "tagger.predict(sentences, mini_batch_size=32)\n",
    "for sentence in sentences:\n",
    "    for entity in sentence.get_labels():\n",
    "        print(f\"Value: {entity.value} with score: {entity.score} and entity type: {entity.data_point.text}\")"
   ],
   "id": "88005ef0d7a470fa",
   "outputs": [],
   "execution_count": null
  },
  {
   "metadata": {},
   "cell_type": "code",
   "source": [
    "import tasks\n",
    "\n",
    "task = tasks.add.delay(4, 4)"
   ],
   "id": "e6d774d35707ccfd",
   "outputs": [],
   "execution_count": null
  },
  {
   "metadata": {},
   "cell_type": "code",
   "source": "task.get()",
   "id": "6628db6a3fb27b6b",
   "outputs": [],
   "execution_count": null
  },
  {
   "metadata": {},
   "cell_type": "code",
   "source": [
    "import streamlit as st\n",
    "import networkx as nx\n",
    "import plotly.graph_objects as go\n",
    "\n",
    "# Sample Relationship Data (without accuracy)\n",
    "relationships = [\n",
    "    (\"George\", \"Washington\", \"born_in\"),\n",
    "    (\"Elon Musk\", \"South Africa\", \"born_in\"),\n",
    "    (\"Bill Gates\", \"Seattle\", \"born_in\"),\n",
    "    (\"Sundar Pichai\", \"India\", \"born_in\")\n",
    "]\n",
    "\n",
    "# Create Graph\n",
    "G = nx.DiGraph()\n",
    "\n",
    "for src, tgt, rel in relationships:\n",
    "    G.add_edge(src, tgt, label=rel)\n",
    "\n",
    "# Get positions for nodes\n",
    "pos = nx.spring_layout(G, seed=42)\n",
    "\n",
    "# Create Edges\n",
    "edge_x, edge_y, edge_labels = [], [], []\n",
    "for edge in G.edges(data=True):\n",
    "    x0, y0 = pos[edge[0]]\n",
    "    x1, y1 = pos[edge[1]]\n",
    "    edge_x.extend([x0, x1, None])\n",
    "    edge_y.extend([y0, y1, None])\n",
    "    edge_labels.append(((x0 + x1) / 2, (y0 + y1) / 2, edge[2]['label']))\n",
    "\n",
    "# Create Nodes\n",
    "node_x, node_y = zip(*pos.values())\n",
    "\n",
    "# Plotly Graph\n",
    "fig = go.Figure()\n",
    "\n",
    "# Add Edges\n",
    "fig.add_trace(go.Scatter(\n",
    "    x=edge_x, y=edge_y, mode=\"lines\",\n",
    "    line=dict(width=2, color=\"blue\"),\n",
    "    hoverinfo=\"none\"\n",
    "))\n",
    "\n",
    "# Add Nodes\n",
    "fig.add_trace(go.Scatter(\n",
    "    x=node_x, y=node_y, mode=\"markers+text\",\n",
    "    text=list(G.nodes()), textposition=\"top center\",\n",
    "    marker=dict(size=15, color=\"lightblue\", line=dict(width=2, color=\"black\"))\n",
    "))\n",
    "\n",
    "# Add Edge Labels\n",
    "for label_x, label_y, label_text in edge_labels:\n",
    "    fig.add_annotation(x=label_x, y=label_y, text=label_text, showarrow=False, font=dict(size=12))\n",
    "\n",
    "fig.update_layout(\n",
    "    title=\"NER Relationship Graph\",\n",
    "    showlegend=False,\n",
    "    xaxis=dict(showgrid=False, zeroline=False),\n",
    "    yaxis=dict(showgrid=False, zeroline=False)\n",
    ")\n",
    "\n",
    "fig.show()\n"
   ],
   "id": "e422632ac72f7c39",
   "outputs": [],
   "execution_count": null
  },
  {
   "metadata": {
    "ExecuteTime": {
     "end_time": "2025-03-04T12:30:13.947369Z",
     "start_time": "2025-03-04T12:30:10.573878Z"
    }
   },
   "cell_type": "code",
   "source": [
    "from flair.splitter import SegtokSentenceSplitter\n",
    "\n",
    "splitter = SegtokSentenceSplitter()\n",
    "\n",
    "tagger = Classifier.load('ner')\n",
    "relation = Classifier.load('relations')\n",
    "\n",
    "sentences = splitter.split(\"John and Sarah have been close friends for years, often working together on various projects. Recently, John introduced Sarah to his colleague, Mark, who works in the same department. Mark and Sarah quickly hit it off, and they began collaborating on a new initiative. However, John felt a bit left out, as he noticed that Sarah and Mark were spending more time together. Despite his feelings, John tried to be supportive, and he encouraged the duo to continue working closely. Over time, the bond between Sarah and Mark grew stronger, leaving John to navigate his emotions and adjust to the changing dynamic.\")\n",
    "print(sentences)"
   ],
   "id": "f02a87d4ea2afcec",
   "outputs": [
    {
     "name": "stdout",
     "output_type": "stream",
     "text": [
      "2025-03-04 19:30:12,600 SequenceTagger predicts: Dictionary with 20 tags: <unk>, O, S-ORG, S-MISC, B-PER, E-PER, S-LOC, B-ORG, E-ORG, I-PER, S-PER, B-MISC, I-MISC, E-MISC, I-ORG, B-LOC, E-LOC, I-LOC, <START>, <STOP>\n",
      "[Sentence[17]: \"John and Sarah have been close friends for years, often working together on various projects.\", Sentence[18]: \"Recently, John introduced Sarah to his colleague, Mark, who works in the same department.\", Sentence[17]: \"Mark and Sarah quickly hit it off, and they began collaborating on a new initiative.\", Sentence[22]: \"However, John felt a bit left out, as he noticed that Sarah and Mark were spending more time together.\", Sentence[20]: \"Despite his feelings, John tried to be supportive, and he encouraged the duo to continue working closely.\", Sentence[25]: \"Over time, the bond between Sarah and Mark grew stronger, leaving John to navigate his emotions and adjust to the changing dynamic.\"]\n"
     ]
    }
   ],
   "execution_count": 26
  },
  {
   "metadata": {
    "ExecuteTime": {
     "end_time": "2025-03-04T12:30:19.835002Z",
     "start_time": "2025-03-04T12:30:15.329545Z"
    }
   },
   "cell_type": "code",
   "source": [
    "result = []\n",
    "sentiment = Classifier.load('sentiment')\n",
    "tagger.predict(sentences)\n",
    "sentiment.predict(sentences)\n",
    "\n",
    "\n",
    "sentences\n"
   ],
   "id": "48ae42bc3ee7a445",
   "outputs": [
    {
     "data": {
      "text/plain": [
       "[Sentence[17]: \"John and Sarah have been close friends for years, often working together on various projects.\" → POSITIVE (0.9997) → [\"John\"/PER, \"Sarah\"/PER],\n",
       " Sentence[18]: \"Recently, John introduced Sarah to his colleague, Mark, who works in the same department.\" → POSITIVE (0.9988) → [\"John\"/PER, \"Sarah\"/PER, \"Mark\"/PER],\n",
       " Sentence[17]: \"Mark and Sarah quickly hit it off, and they began collaborating on a new initiative.\" → POSITIVE (0.9994) → [\"Mark\"/PER, \"Sarah\"/PER],\n",
       " Sentence[22]: \"However, John felt a bit left out, as he noticed that Sarah and Mark were spending more time together.\" → POSITIVE (0.9883) → [\"John\"/PER, \"Sarah\"/PER, \"Mark\"/PER],\n",
       " Sentence[20]: \"Despite his feelings, John tried to be supportive, and he encouraged the duo to continue working closely.\" → POSITIVE (0.8923) → [\"John\"/PER],\n",
       " Sentence[25]: \"Over time, the bond between Sarah and Mark grew stronger, leaving John to navigate his emotions and adjust to the changing dynamic.\" → POSITIVE (0.9997) → [\"Sarah\"/PER, \"Mark\"/PER, \"John\"/PER]]"
      ]
     },
     "execution_count": 27,
     "metadata": {},
     "output_type": "execute_result"
    }
   ],
   "execution_count": 27
  },
  {
   "metadata": {
    "ExecuteTime": {
     "end_time": "2025-03-04T12:57:09.427331Z",
     "start_time": "2025-03-04T12:57:09.425395Z"
    }
   },
   "cell_type": "code",
   "source": [
    "for sentence in sentences:\n",
    "    for entity in sentence.get_labels():\n",
    "        print(f\"Value: {entity.value} with score: {entity.score} and entity type: {entity.data_point.text}\")"
   ],
   "id": "7c3ad2f768c5b08a",
   "outputs": [
    {
     "name": "stdout",
     "output_type": "stream",
     "text": [
      "Value: PER with score: 0.9997358918190002 and entity type: John\n",
      "Value: POSITIVE with score: 0.9997102618217468 and entity type: John and Sarah have been close friends for years, often working together on various projects.\n",
      "Value: PER with score: 0.9998323917388916 and entity type: Sarah\n",
      "Value: PER with score: 0.9999477863311768 and entity type: John\n",
      "Value: PER with score: 0.9999245405197144 and entity type: Sarah\n",
      "Value: PER with score: 0.999297022819519 and entity type: Mark\n",
      "Value: POSITIVE with score: 0.9988082647323608 and entity type: Recently, John introduced Sarah to his colleague, Mark, who works in the same department.\n",
      "Value: PER with score: 0.9996660947799683 and entity type: Mark\n",
      "Value: PER with score: 0.9998935461044312 and entity type: Sarah\n",
      "Value: POSITIVE with score: 0.9993724226951599 and entity type: Mark and Sarah quickly hit it off, and they began collaborating on a new initiative.\n",
      "Value: PER with score: 0.9999958276748657 and entity type: John\n",
      "Value: PER with score: 0.999699592590332 and entity type: Sarah\n",
      "Value: PER with score: 0.9999226331710815 and entity type: Mark\n",
      "Value: POSITIVE with score: 0.9882789850234985 and entity type: However, John felt a bit left out, as he noticed that Sarah and Mark were spending more time together.\n",
      "Value: PER with score: 0.9999945163726807 and entity type: John\n",
      "Value: POSITIVE with score: 0.8923160433769226 and entity type: Despite his feelings, John tried to be supportive, and he encouraged the duo to continue working closely.\n",
      "Value: PER with score: 0.9994961023330688 and entity type: Sarah\n",
      "Value: PER with score: 0.9999841451644897 and entity type: Mark\n",
      "Value: PER with score: 0.9999738931655884 and entity type: John\n",
      "Value: POSITIVE with score: 0.9997202754020691 and entity type: Over time, the bond between Sarah and Mark grew stronger, leaving John to navigate his emotions and adjust to the changing dynamic.\n"
     ]
    }
   ],
   "execution_count": 56
  },
  {
   "metadata": {
    "ExecuteTime": {
     "end_time": "2025-03-04T12:31:38.076084Z",
     "start_time": "2025-03-04T12:31:38.073019Z"
    }
   },
   "cell_type": "code",
   "source": [
    "for sentence in sentences:\n",
    "    print(sentence.to_dict())"
   ],
   "id": "ee4ac6df68022e35",
   "outputs": [
    {
     "name": "stdout",
     "output_type": "stream",
     "text": [
      "{'text': 'John and Sarah have been close friends for years, often working together on various projects.', 'labels': [{'value': 'POSITIVE', 'confidence': 0.9997102618217468}], 'entities': [{'text': 'John', 'start_pos': 0, 'end_pos': 4, 'labels': [{'value': 'PER', 'confidence': 0.9997358918190002}]}, {'text': 'Sarah', 'start_pos': 9, 'end_pos': 14, 'labels': [{'value': 'PER', 'confidence': 0.9998323917388916}]}], 'relations': [], 'tokens': [{'text': 'John', 'start_pos': 0, 'end_pos': 4, 'labels': []}, {'text': 'and', 'start_pos': 5, 'end_pos': 8, 'labels': []}, {'text': 'Sarah', 'start_pos': 9, 'end_pos': 14, 'labels': []}, {'text': 'have', 'start_pos': 15, 'end_pos': 19, 'labels': []}, {'text': 'been', 'start_pos': 20, 'end_pos': 24, 'labels': []}, {'text': 'close', 'start_pos': 25, 'end_pos': 30, 'labels': []}, {'text': 'friends', 'start_pos': 31, 'end_pos': 38, 'labels': []}, {'text': 'for', 'start_pos': 39, 'end_pos': 42, 'labels': []}, {'text': 'years', 'start_pos': 43, 'end_pos': 48, 'labels': []}, {'text': ',', 'start_pos': 48, 'end_pos': 49, 'labels': []}, {'text': 'often', 'start_pos': 50, 'end_pos': 55, 'labels': []}, {'text': 'working', 'start_pos': 56, 'end_pos': 63, 'labels': []}, {'text': 'together', 'start_pos': 64, 'end_pos': 72, 'labels': []}, {'text': 'on', 'start_pos': 73, 'end_pos': 75, 'labels': []}, {'text': 'various', 'start_pos': 76, 'end_pos': 83, 'labels': []}, {'text': 'projects', 'start_pos': 84, 'end_pos': 92, 'labels': []}, {'text': '.', 'start_pos': 92, 'end_pos': 93, 'labels': []}]}\n",
      "{'text': 'Recently, John introduced Sarah to his colleague, Mark, who works in the same department.', 'labels': [{'value': 'POSITIVE', 'confidence': 0.9988082647323608}], 'entities': [{'text': 'John', 'start_pos': 10, 'end_pos': 14, 'labels': [{'value': 'PER', 'confidence': 0.9999477863311768}]}, {'text': 'Sarah', 'start_pos': 26, 'end_pos': 31, 'labels': [{'value': 'PER', 'confidence': 0.9999245405197144}]}, {'text': 'Mark', 'start_pos': 50, 'end_pos': 54, 'labels': [{'value': 'PER', 'confidence': 0.999297022819519}]}], 'relations': [], 'tokens': [{'text': 'Recently', 'start_pos': 0, 'end_pos': 8, 'labels': []}, {'text': ',', 'start_pos': 8, 'end_pos': 9, 'labels': []}, {'text': 'John', 'start_pos': 10, 'end_pos': 14, 'labels': []}, {'text': 'introduced', 'start_pos': 15, 'end_pos': 25, 'labels': []}, {'text': 'Sarah', 'start_pos': 26, 'end_pos': 31, 'labels': []}, {'text': 'to', 'start_pos': 32, 'end_pos': 34, 'labels': []}, {'text': 'his', 'start_pos': 35, 'end_pos': 38, 'labels': []}, {'text': 'colleague', 'start_pos': 39, 'end_pos': 48, 'labels': []}, {'text': ',', 'start_pos': 48, 'end_pos': 49, 'labels': []}, {'text': 'Mark', 'start_pos': 50, 'end_pos': 54, 'labels': []}, {'text': ',', 'start_pos': 54, 'end_pos': 55, 'labels': []}, {'text': 'who', 'start_pos': 56, 'end_pos': 59, 'labels': []}, {'text': 'works', 'start_pos': 60, 'end_pos': 65, 'labels': []}, {'text': 'in', 'start_pos': 66, 'end_pos': 68, 'labels': []}, {'text': 'the', 'start_pos': 69, 'end_pos': 72, 'labels': []}, {'text': 'same', 'start_pos': 73, 'end_pos': 77, 'labels': []}, {'text': 'department', 'start_pos': 78, 'end_pos': 88, 'labels': []}, {'text': '.', 'start_pos': 88, 'end_pos': 89, 'labels': []}]}\n",
      "{'text': 'Mark and Sarah quickly hit it off, and they began collaborating on a new initiative.', 'labels': [{'value': 'POSITIVE', 'confidence': 0.9993724226951599}], 'entities': [{'text': 'Mark', 'start_pos': 0, 'end_pos': 4, 'labels': [{'value': 'PER', 'confidence': 0.9996660947799683}]}, {'text': 'Sarah', 'start_pos': 9, 'end_pos': 14, 'labels': [{'value': 'PER', 'confidence': 0.9998935461044312}]}], 'relations': [], 'tokens': [{'text': 'Mark', 'start_pos': 0, 'end_pos': 4, 'labels': []}, {'text': 'and', 'start_pos': 5, 'end_pos': 8, 'labels': []}, {'text': 'Sarah', 'start_pos': 9, 'end_pos': 14, 'labels': []}, {'text': 'quickly', 'start_pos': 15, 'end_pos': 22, 'labels': []}, {'text': 'hit', 'start_pos': 23, 'end_pos': 26, 'labels': []}, {'text': 'it', 'start_pos': 27, 'end_pos': 29, 'labels': []}, {'text': 'off', 'start_pos': 30, 'end_pos': 33, 'labels': []}, {'text': ',', 'start_pos': 33, 'end_pos': 34, 'labels': []}, {'text': 'and', 'start_pos': 35, 'end_pos': 38, 'labels': []}, {'text': 'they', 'start_pos': 39, 'end_pos': 43, 'labels': []}, {'text': 'began', 'start_pos': 44, 'end_pos': 49, 'labels': []}, {'text': 'collaborating', 'start_pos': 50, 'end_pos': 63, 'labels': []}, {'text': 'on', 'start_pos': 64, 'end_pos': 66, 'labels': []}, {'text': 'a', 'start_pos': 67, 'end_pos': 68, 'labels': []}, {'text': 'new', 'start_pos': 69, 'end_pos': 72, 'labels': []}, {'text': 'initiative', 'start_pos': 73, 'end_pos': 83, 'labels': []}, {'text': '.', 'start_pos': 83, 'end_pos': 84, 'labels': []}]}\n",
      "{'text': 'However, John felt a bit left out, as he noticed that Sarah and Mark were spending more time together.', 'labels': [{'value': 'POSITIVE', 'confidence': 0.9882789850234985}], 'entities': [{'text': 'John', 'start_pos': 9, 'end_pos': 13, 'labels': [{'value': 'PER', 'confidence': 0.9999958276748657}]}, {'text': 'Sarah', 'start_pos': 54, 'end_pos': 59, 'labels': [{'value': 'PER', 'confidence': 0.999699592590332}]}, {'text': 'Mark', 'start_pos': 64, 'end_pos': 68, 'labels': [{'value': 'PER', 'confidence': 0.9999226331710815}]}], 'relations': [], 'tokens': [{'text': 'However', 'start_pos': 0, 'end_pos': 7, 'labels': []}, {'text': ',', 'start_pos': 7, 'end_pos': 8, 'labels': []}, {'text': 'John', 'start_pos': 9, 'end_pos': 13, 'labels': []}, {'text': 'felt', 'start_pos': 14, 'end_pos': 18, 'labels': []}, {'text': 'a', 'start_pos': 19, 'end_pos': 20, 'labels': []}, {'text': 'bit', 'start_pos': 21, 'end_pos': 24, 'labels': []}, {'text': 'left', 'start_pos': 25, 'end_pos': 29, 'labels': []}, {'text': 'out', 'start_pos': 30, 'end_pos': 33, 'labels': []}, {'text': ',', 'start_pos': 33, 'end_pos': 34, 'labels': []}, {'text': 'as', 'start_pos': 35, 'end_pos': 37, 'labels': []}, {'text': 'he', 'start_pos': 38, 'end_pos': 40, 'labels': []}, {'text': 'noticed', 'start_pos': 41, 'end_pos': 48, 'labels': []}, {'text': 'that', 'start_pos': 49, 'end_pos': 53, 'labels': []}, {'text': 'Sarah', 'start_pos': 54, 'end_pos': 59, 'labels': []}, {'text': 'and', 'start_pos': 60, 'end_pos': 63, 'labels': []}, {'text': 'Mark', 'start_pos': 64, 'end_pos': 68, 'labels': []}, {'text': 'were', 'start_pos': 69, 'end_pos': 73, 'labels': []}, {'text': 'spending', 'start_pos': 74, 'end_pos': 82, 'labels': []}, {'text': 'more', 'start_pos': 83, 'end_pos': 87, 'labels': []}, {'text': 'time', 'start_pos': 88, 'end_pos': 92, 'labels': []}, {'text': 'together', 'start_pos': 93, 'end_pos': 101, 'labels': []}, {'text': '.', 'start_pos': 101, 'end_pos': 102, 'labels': []}]}\n",
      "{'text': 'Despite his feelings, John tried to be supportive, and he encouraged the duo to continue working closely.', 'labels': [{'value': 'POSITIVE', 'confidence': 0.8923160433769226}], 'entities': [{'text': 'John', 'start_pos': 22, 'end_pos': 26, 'labels': [{'value': 'PER', 'confidence': 0.9999945163726807}]}], 'relations': [], 'tokens': [{'text': 'Despite', 'start_pos': 0, 'end_pos': 7, 'labels': []}, {'text': 'his', 'start_pos': 8, 'end_pos': 11, 'labels': []}, {'text': 'feelings', 'start_pos': 12, 'end_pos': 20, 'labels': []}, {'text': ',', 'start_pos': 20, 'end_pos': 21, 'labels': []}, {'text': 'John', 'start_pos': 22, 'end_pos': 26, 'labels': []}, {'text': 'tried', 'start_pos': 27, 'end_pos': 32, 'labels': []}, {'text': 'to', 'start_pos': 33, 'end_pos': 35, 'labels': []}, {'text': 'be', 'start_pos': 36, 'end_pos': 38, 'labels': []}, {'text': 'supportive', 'start_pos': 39, 'end_pos': 49, 'labels': []}, {'text': ',', 'start_pos': 49, 'end_pos': 50, 'labels': []}, {'text': 'and', 'start_pos': 51, 'end_pos': 54, 'labels': []}, {'text': 'he', 'start_pos': 55, 'end_pos': 57, 'labels': []}, {'text': 'encouraged', 'start_pos': 58, 'end_pos': 68, 'labels': []}, {'text': 'the', 'start_pos': 69, 'end_pos': 72, 'labels': []}, {'text': 'duo', 'start_pos': 73, 'end_pos': 76, 'labels': []}, {'text': 'to', 'start_pos': 77, 'end_pos': 79, 'labels': []}, {'text': 'continue', 'start_pos': 80, 'end_pos': 88, 'labels': []}, {'text': 'working', 'start_pos': 89, 'end_pos': 96, 'labels': []}, {'text': 'closely', 'start_pos': 97, 'end_pos': 104, 'labels': []}, {'text': '.', 'start_pos': 104, 'end_pos': 105, 'labels': []}]}\n",
      "{'text': 'Over time, the bond between Sarah and Mark grew stronger, leaving John to navigate his emotions and adjust to the changing dynamic.', 'labels': [{'value': 'POSITIVE', 'confidence': 0.9997202754020691}], 'entities': [{'text': 'Sarah', 'start_pos': 28, 'end_pos': 33, 'labels': [{'value': 'PER', 'confidence': 0.9994961023330688}]}, {'text': 'Mark', 'start_pos': 38, 'end_pos': 42, 'labels': [{'value': 'PER', 'confidence': 0.9999841451644897}]}, {'text': 'John', 'start_pos': 66, 'end_pos': 70, 'labels': [{'value': 'PER', 'confidence': 0.9999738931655884}]}], 'relations': [], 'tokens': [{'text': 'Over', 'start_pos': 0, 'end_pos': 4, 'labels': []}, {'text': 'time', 'start_pos': 5, 'end_pos': 9, 'labels': []}, {'text': ',', 'start_pos': 9, 'end_pos': 10, 'labels': []}, {'text': 'the', 'start_pos': 11, 'end_pos': 14, 'labels': []}, {'text': 'bond', 'start_pos': 15, 'end_pos': 19, 'labels': []}, {'text': 'between', 'start_pos': 20, 'end_pos': 27, 'labels': []}, {'text': 'Sarah', 'start_pos': 28, 'end_pos': 33, 'labels': []}, {'text': 'and', 'start_pos': 34, 'end_pos': 37, 'labels': []}, {'text': 'Mark', 'start_pos': 38, 'end_pos': 42, 'labels': []}, {'text': 'grew', 'start_pos': 43, 'end_pos': 47, 'labels': []}, {'text': 'stronger', 'start_pos': 48, 'end_pos': 56, 'labels': []}, {'text': ',', 'start_pos': 56, 'end_pos': 57, 'labels': []}, {'text': 'leaving', 'start_pos': 58, 'end_pos': 65, 'labels': []}, {'text': 'John', 'start_pos': 66, 'end_pos': 70, 'labels': []}, {'text': 'to', 'start_pos': 71, 'end_pos': 73, 'labels': []}, {'text': 'navigate', 'start_pos': 74, 'end_pos': 82, 'labels': []}, {'text': 'his', 'start_pos': 83, 'end_pos': 86, 'labels': []}, {'text': 'emotions', 'start_pos': 87, 'end_pos': 95, 'labels': []}, {'text': 'and', 'start_pos': 96, 'end_pos': 99, 'labels': []}, {'text': 'adjust', 'start_pos': 100, 'end_pos': 106, 'labels': []}, {'text': 'to', 'start_pos': 107, 'end_pos': 109, 'labels': []}, {'text': 'the', 'start_pos': 110, 'end_pos': 113, 'labels': []}, {'text': 'changing', 'start_pos': 114, 'end_pos': 122, 'labels': []}, {'text': 'dynamic', 'start_pos': 123, 'end_pos': 130, 'labels': []}, {'text': '.', 'start_pos': 130, 'end_pos': 131, 'labels': []}]}\n"
     ]
    }
   ],
   "execution_count": 28
  },
  {
   "metadata": {
    "ExecuteTime": {
     "end_time": "2025-03-04T12:23:53.646373Z",
     "start_time": "2025-03-04T12:23:50.073127Z"
    }
   },
   "cell_type": "code",
   "source": [
    "# relations\n",
    "\n",
    "tagger = Classifier.load('ner-fast')\n",
    "relation = Classifier.load('sentiment')\n",
    "\n",
    "sentence = Sentence(\"John was fired in Washington.\")\n",
    "tagger.predict(sentence)\n",
    "relation.predict(sentence)\n",
    "\n",
    "print(sentence.get_labels('ner'))\n",
    "\n",
    "print(sentence.get_labels())"
   ],
   "id": "d565aa1382743648",
   "outputs": [
    {
     "name": "stdout",
     "output_type": "stream",
     "text": [
      "2025-03-04 19:23:51,643 SequenceTagger predicts: Dictionary with 20 tags: <unk>, O, S-ORG, S-MISC, B-PER, E-PER, S-LOC, B-ORG, E-ORG, I-PER, S-PER, B-MISC, I-MISC, E-MISC, I-ORG, B-LOC, E-LOC, I-LOC, <START>, <STOP>\n",
      "['Span[0:1]: \"John\"'/'PER' (0.9991), 'Span[4:5]: \"Washington\"'/'LOC' (0.9993)]\n",
      "['Span[0:1]: \"John\"'/'PER' (0.9991), 'Sentence[6]: \"John was fired in Washington.\"'/'NEGATIVE' (0.8585), 'Span[4:5]: \"Washington\"'/'LOC' (0.9993)]\n"
     ]
    }
   ],
   "execution_count": 24
  },
  {
   "metadata": {},
   "cell_type": "code",
   "source": [
    "from pyvis.network import Network\n",
    "\n",
    "# Create a Pyvis network\n",
    "graph = Network(notebook=True, directed=False)\n",
    "\n",
    "# Add nodes and edges\n",
    "for entry in relations:\n",
    "    from_node = entry['from_text']\n",
    "    to_node = entry['to_text']\n",
    "    label = entry['labels'][0]['value']  # Assuming only one label per entry\n",
    "\n",
    "    graph.add_node(from_node, label=from_node, color='#3498db')\n",
    "    graph.add_node(to_node, label=to_node, color='#e74c3c')\n",
    "    graph.add_edge(from_node, to_node, label=label)\n",
    "\n",
    "# Save and display\n",
    "graph.show(\"network_graph.html\")"
   ],
   "id": "c74fe8bb7702f856",
   "outputs": [],
   "execution_count": null
  }
 ],
 "metadata": {
  "kernelspec": {
   "name": "python3",
   "language": "python",
   "display_name": "Python 3 (ipykernel)"
  }
 },
 "nbformat": 5,
 "nbformat_minor": 9
}
